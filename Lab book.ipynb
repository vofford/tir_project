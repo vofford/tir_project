{
 "cells": [
  {
   "cell_type": "markdown",
   "metadata": {},
   "source": [
    "# TIR Project\n",
    "\n",
    "Search for bacterial TIR domain-containing proteins."
   ]
  },
  {
   "cell_type": "markdown",
   "metadata": {},
   "source": [
    "1) Set the working directory."
   ]
  },
  {
   "cell_type": "code",
   "execution_count": 2,
   "metadata": {
    "collapsed": true
   },
   "outputs": [],
   "source": [
    "cd ~/Data/tir_project"
   ]
  },
  {
   "cell_type": "markdown",
   "metadata": {},
   "source": [
    "2) Download the assembly summary from NCBI FTP."
   ]
  },
  {
   "cell_type": "code",
   "execution_count": null,
   "metadata": {
    "collapsed": false
   },
   "outputs": [],
   "source": [
    "wget ftp://ftp.ncbi.nlm.nih.gov/genomes/ASSEMBLY_REPORTS/assembly_summary_genbank.txt"
   ]
  },
  {
   "cell_type": "markdown",
   "metadata": {},
   "source": [
    "| Column number | Column name | Example |\n",
    "| --- | --- | --- |\n",
    "| 1 | assembly_accession | GCA_000174395.2 |\n",
    "| 2 | bioproject | PRJNA30627 |\n",
    "| 3 | biosample | SAMN00002237 |\n",
    "| 4 | wgs_master |  |\n",
    "| 5 | refseq_category | reference genome |\n",
    "| 6 | taxid | 333849 |\n",
    "| 7 | species_taxid | 1352 |\n",
    "| 8 | organism_name | Enterococcus faecium DO |\n",
    "| 9 | infraspecific_name | strain=DO |\n",
    "| 10 | isolate |  |\n",
    "| 10 | version_status | latest |\n",
    "| 12 | assembly_level | Complete Genome |\n",
    "| 13 | release_type | Major |\n",
    "| 14 | genome_rep | Full |\n",
    "| 15 | seq_rel_date | 2012/05/25 |\n",
    "| 16 | asm_name | ASM17439v2 |\n",
    "| 17 | submitter | Baylor College of Medicine |\n",
    "| 18 | gbrs_paired_asm | GCF_000174395.2 |\n",
    "| 19 | paired_asm_comp | identical |\n",
    "| 20 | ftp_path | ftp://ftp.ncbi.nlm.nih.gov/genomes/all/GCA/000/174/395/GCA_000174395.2_ASM17439v2 |\n",
    "| 21 | excluded_from_refseq |  |"
   ]
  },
  {
   "cell_type": "markdown",
   "metadata": {},
   "source": [
    "3) Download categories.dmp from NCBI which links top level category (e.g. bacteria) to taxon ID"
   ]
  },
  {
   "cell_type": "code",
   "execution_count": null,
   "metadata": {
    "collapsed": false
   },
   "outputs": [],
   "source": [
    "wget ftp://ftp.ncbi.nih.gov/pub/taxonomy/taxcat.tar.gz\n",
    "tar -xvzf taxcat.tar.gz\n",
    "rm taxcat.tar.gz"
   ]
  },
  {
   "cell_type": "markdown",
   "metadata": {},
   "source": [
    "categories.dmp contains a single line for each node that is at or below the species level in the NCBI Taxonomy database.\n",
    "\n",
    "The first column is the top-level category -\n",
    "\n",
    "  A = Archaea\n",
    "  B = Bacteria\n",
    "  E = Eukaryota\n",
    "  V = Viruses and Viroids\n",
    "  U = Unclassified\n",
    "  O = Other\n",
    "\n",
    "The third column is the taxid itself, and the second column is the corresponding species-level taxid.\n",
    "\n",
    "These nodes in the taxonomy -\n",
    "\n",
    "  242703 - Acidilobus saccharovorans\n",
    "  666510 - Acidilobus saccharovorans 345-15 \n",
    "\n",
    "will appear in categories.dmp as -\n",
    "\n",
    "A       242703  242703  \n",
    "A       242703  666510"
   ]
  },
  {
   "cell_type": "code",
   "execution_count": 7,
   "metadata": {
    "collapsed": false
   },
   "outputs": [
    {
     "name": "stdout",
     "output_type": "stream",
     "text": [
      "   92276 assembly_summary_genbank.txt\n"
     ]
    }
   ],
   "source": [
    "wc -l assembly_summary_genbank.txt"
   ]
  },
  {
   "cell_type": "markdown",
   "metadata": {
    "collapsed": true
   },
   "source": [
    "4) Extract bacterial assembly records and create link to protein file\n",
    "The FTP link for the assembly is:  \n",
    "`ftp://ftp.ncbi.nlm.nih.gov/genomes/all/GCA/000/174/395/GCA_000174395.2_ASM17439v2`\n",
    "\n",
    "Need to generate the FTP link for the protein file:  \n",
    "`ftp://ftp.ncbi.nlm.nih.gov/genomes/all/GCA/000/174/395/GCA_000174395.2_ASM17439v2/GCA_000174395.2_ASM17439v2_protein.faa.gz`  \n",
    "ftp://ftp.ncbi.nlm.nih.gov/genomes/all/GCA/000/174/395/GCA_000174395.2_ASM17439v2/GCF_000174395.2_ASM17439v2_protein.faa.gz\n",
    "\n",
    "Link to protein file is comprised by column 20 / column 1 _ column 16 _protein.faa.gz"
   ]
  },
  {
   "cell_type": "code",
   "execution_count": 38,
   "metadata": {
    "collapsed": false
   },
   "outputs": [],
   "source": [
    "PATH=$PATH:~/Data/Notebooks/tir_project\n",
    "extract_bacteria_assemblies.sh"
   ]
  },
  {
   "cell_type": "markdown",
   "metadata": {},
   "source": [
    "5) Summarize genomes"
   ]
  },
  {
   "cell_type": "code",
   "execution_count": 14,
   "metadata": {
    "collapsed": false
   },
   "outputs": [
    {
     "name": "stdout",
     "output_type": "stream",
     "text": [
      "na\tChromosome\t1044\n",
      "na\tComplete Genome\t4711\n",
      "na\tContig\t36884\n",
      "na\tScaffold\t38489\n",
      "reference genome\tChromosome\t2\n",
      "reference genome\tComplete Genome\t118\n",
      "representative genome\tChromosome\t110\n",
      "representative genome\tComplete Genome\t1468\n",
      "representative genome\tContig\t1761\n",
      "representative genome\tScaffold\t1741\n"
     ]
    }
   ],
   "source": [
    "awk 'BEGIN{FS=\"\\t\"} {gen[$5\"\\t\"$12]++} END{for (x in gen) {print x\"\\t\"gen[x]}}' bacteria_only_assembly_summary_genbank.txt | sort"
   ]
  },
  {
   "cell_type": "markdown",
   "metadata": {},
   "source": [
    "6) Get protein sequences from bacterial assemblies which are reference genomes (column 5)"
   ]
  },
  {
   "cell_type": "code",
   "execution_count": null,
   "metadata": {
    "collapsed": false
   },
   "outputs": [],
   "source": [
    "awk ' BEGIN{FS=\"\\t\"}($5 == \"reference genome\"){print $22}' bacteria_only_assembly_summary_genbank.txt | xargs -L 1 wget --quiet -P ~/Data/tir_project/reference_genomes"
   ]
  },
  {
   "cell_type": "markdown",
   "metadata": {},
   "source": [
    "7) Get protein sequences from bacterial assemblies which are representative genomes (column 5)"
   ]
  },
  {
   "cell_type": "code",
   "execution_count": 3,
   "metadata": {
    "collapsed": false
   },
   "outputs": [],
   "source": [
    "rg=($(awk ' BEGIN{FS=\"\\t\"}($5 == \"representative genome\"){print $22}' bacteria_only_assembly_summary_genbank.txt))"
   ]
  },
  {
   "cell_type": "code",
   "execution_count": null,
   "metadata": {
    "collapsed": false
   },
   "outputs": [],
   "source": [
    "x=0; err=0; for i in \"${rg[@]}\"; do ((x++)); echo $x\": \"$i; var=\"representative_genomes/\"${i##*/}; string=\".faa.gz\"; if [[ ! $i == *\".faa.gz\" ]]; then echo $i >> ~/Data/tir_project/representative_genomes_ftp.err; ((err++)); else if [ ! -e $var ]; then wget -P ~/Data/tir_project/representative_genomes $i; fi; fi; done"
   ]
  },
  {
   "cell_type": "code",
   "execution_count": null,
   "metadata": {
    "collapsed": true
   },
   "outputs": [],
   "source": []
  }
 ],
 "metadata": {
  "anaconda-cloud": {},
  "kernelspec": {
   "display_name": "Bash",
   "language": "bash",
   "name": "bash"
  },
  "language_info": {
   "codemirror_mode": "shell",
   "file_extension": ".sh",
   "mimetype": "text/x-sh",
   "name": "bash"
  }
 },
 "nbformat": 4,
 "nbformat_minor": 1
}
