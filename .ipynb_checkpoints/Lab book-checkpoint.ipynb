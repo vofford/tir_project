{
 "cells": [
  {
   "cell_type": "markdown",
   "metadata": {},
   "source": [
    "# TIR Project\n",
    "\n",
    "Search for bacterial TIR domain-containing proteins."
   ]
  },
  {
   "cell_type": "markdown",
   "metadata": {},
   "source": [
    "1) Set the working directory."
   ]
  },
  {
   "cell_type": "code",
   "execution_count": 1,
   "metadata": {
    "collapsed": true
   },
   "outputs": [],
   "source": [
    "cd ~/Data/tir_project"
   ]
  },
  {
   "cell_type": "markdown",
   "metadata": {},
   "source": [
    "2) Download the assembly summary from NCBI FTP."
   ]
  },
  {
   "cell_type": "code",
   "execution_count": null,
   "metadata": {
    "collapsed": false
   },
   "outputs": [],
   "source": [
    "wget ftp://ftp.ncbi.nlm.nih.gov/genomes/ASSEMBLY_REPORTS/assembly_summary_genbank.txt"
   ]
  },
  {
   "cell_type": "markdown",
   "metadata": {},
   "source": [
    "| Column number | Column name | Example |\n",
    "| --- | --- | --- |\n",
    "| 1 | assembly_accession | GCA_000174395.2 |\n",
    "| 2 | bioproject | PRJNA30627 |\n",
    "| 3 | biosample | SAMN00002237 |\n",
    "| 4 | wgs_master |  |\n",
    "| 5 | refseq_category | reference genome |\n",
    "| 6 | taxid | 333849 |\n",
    "| 7 | species_taxid | 1352 |\n",
    "| 8 | organism_name | Enterococcus faecium DO |\n",
    "| 9 | infraspecific_name | strain=DO |\n",
    "| 10 | isolate |  |\n",
    "| 10 | version_status | latest |\n",
    "| 12 | assembly_level | Complete Genome |\n",
    "| 13 | release_type | Major |\n",
    "| 14 | genome_rep | Full |\n",
    "| 15 | seq_rel_date | 2012/05/25 |\n",
    "| 16 | asm_name | ASM17439v2 |\n",
    "| 17 | submitter | Baylor College of Medicine |\n",
    "| 18 | gbrs_paired_asm | GCF_000174395.2 |\n",
    "| 19 | paired_asm_comp | identical |\n",
    "| 20 | ftp_path | ftp://ftp.ncbi.nlm.nih.gov/genomes/all/GCA/000/174/395/GCA_000174395.2_ASM17439v2 |\n",
    "| 21 | excluded_from_refseq |  |"
   ]
  },
  {
   "cell_type": "markdown",
   "metadata": {},
   "source": [
    "3) Download categories.dmp from NCBI which links top level category (e.g. bacteria) to taxon ID"
   ]
  },
  {
   "cell_type": "code",
   "execution_count": null,
   "metadata": {
    "collapsed": false
   },
   "outputs": [],
   "source": [
    "wget ftp://ftp.ncbi.nih.gov/pub/taxonomy/taxcat.tar.gz\n",
    "tar -xvzf taxcat.tar.gz\n",
    "rm taxcat.tar.gz"
   ]
  },
  {
   "cell_type": "markdown",
   "metadata": {},
   "source": [
    "categories.dmp contains a single line for each node that is at or below the species level in the NCBI Taxonomy database.\n",
    "\n",
    "The first column is the top-level category -\n",
    "\n",
    "  A = Archaea\n",
    "  B = Bacteria\n",
    "  E = Eukaryota\n",
    "  V = Viruses and Viroids\n",
    "  U = Unclassified\n",
    "  O = Other\n",
    "\n",
    "The third column is the taxid itself, and the second column is the corresponding species-level taxid.\n",
    "\n",
    "These nodes in the taxonomy -\n",
    "\n",
    "  242703 - Acidilobus saccharovorans\n",
    "  666510 - Acidilobus saccharovorans 345-15 \n",
    "\n",
    "will appear in categories.dmp as -\n",
    "\n",
    "A       242703  242703\n",
    "A       242703  666510"
   ]
  },
  {
   "cell_type": "code",
   "execution_count": 7,
   "metadata": {
    "collapsed": false
   },
   "outputs": [
    {
     "name": "stdout",
     "output_type": "stream",
     "text": [
      "   92276 assembly_summary_genbank.txt\n"
     ]
    }
   ],
   "source": [
    "wc -l assembly_summary_genbank.txt"
   ]
  },
  {
   "cell_type": "code",
   "execution_count": null,
   "metadata": {
    "collapsed": true
   },
   "outputs": [],
   "source": []
  },
  {
   "cell_type": "code",
   "execution_count": null,
   "metadata": {
    "collapsed": true
   },
   "outputs": [],
   "source": []
  },
  {
   "cell_type": "code",
   "execution_count": null,
   "metadata": {
    "collapsed": true
   },
   "outputs": [],
   "source": []
  }
 ],
 "metadata": {
  "anaconda-cloud": {},
  "kernelspec": {
   "display_name": "Bash",
   "language": "bash",
   "name": "bash"
  },
  "language_info": {
   "codemirror_mode": "shell",
   "file_extension": ".sh",
   "mimetype": "text/x-sh",
   "name": "bash"
  }
 },
 "nbformat": 4,
 "nbformat_minor": 1
}
